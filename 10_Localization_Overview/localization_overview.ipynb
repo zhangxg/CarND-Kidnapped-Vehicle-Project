{
 "cells": [
  {
   "cell_type": "code",
   "execution_count": 79,
   "metadata": {
    "collapsed": true
   },
   "outputs": [],
   "source": [
    "import numpy as np\n",
    "import math"
   ]
  },
  {
   "cell_type": "markdown",
   "metadata": {},
   "source": [
    "### make a uniform distribution"
   ]
  },
  {
   "cell_type": "code",
   "execution_count": 2,
   "metadata": {},
   "outputs": [
    {
     "name": "stdout",
     "output_type": "stream",
     "text": [
      "[0.2, 0.2, 0.2, 0.2, 0.2]\n"
     ]
    }
   ],
   "source": [
    "num_of_cells = 5\n",
    "p = [1/num_of_cells for i in range(num_of_cells)]\n",
    "print(p)"
   ]
  },
  {
   "cell_type": "code",
   "execution_count": 4,
   "metadata": {},
   "outputs": [
    {
     "name": "stdout",
     "output_type": "stream",
     "text": [
      "[0.04000000000000001, 0.12, 0.12, 0.04000000000000001, 0.04000000000000001]\n"
     ]
    }
   ],
   "source": [
    "#Write code that outputs p after multiplying each entry \n",
    "#by pHit or pMiss at the appropriate places. Remember that\n",
    "#the red cells 1 and 2 are hits and the other green cells\n",
    "#are misses.\n",
    "# p=[0.2,0.2,0.2,0.2,0.2]\n",
    "pHit = 0.6\n",
    "pMiss = 0.2\n",
    "#Enter code here\n",
    "p1 = [pMiss, pHit, pHit, pMiss, pMiss]\n",
    "p = [p[i] * p1[i] for i in range(num_of_cells)]\n",
    "print(p)"
   ]
  },
  {
   "cell_type": "code",
   "execution_count": 5,
   "metadata": {},
   "outputs": [
    {
     "name": "stdout",
     "output_type": "stream",
     "text": [
      "0.3600000000000001\n"
     ]
    }
   ],
   "source": [
    "#Modify the program to find and print the sum of all \n",
    "#the entries in the list p.\n",
    "sump = sum(p)\n",
    "print(sump)"
   ]
  },
  {
   "cell_type": "code",
   "execution_count": 12,
   "metadata": {},
   "outputs": [
    {
     "name": "stdout",
     "output_type": "stream",
     "text": [
      "[0.1111111111111111, 0.3333333333333332, 0.3333333333333332, 0.1111111111111111, 0.1111111111111111]\n"
     ]
    }
   ],
   "source": [
    "#Modify the code below so that the function sense, which \n",
    "#takes p and Z as inputs, will output the NON-normalized \n",
    "#probability distribution, q, after multiplying the entries \n",
    "#in p by pHit or pMiss according to the color in the \n",
    "#corresponding cell in world.\n",
    "p=[0.2, 0.2, 0.2, 0.2, 0.2]\n",
    "world=['green', 'red', 'red', 'green', 'green']\n",
    "Z = 'red'\n",
    "pHit = 0.6\n",
    "pMiss = 0.2\n",
    "\n",
    "def sense(p, Z):\n",
    "    #\n",
    "    #ADD YOUR CODE HERE\n",
    "\t#\n",
    "    p = [p[i]*pHit if world[i] == Z else p[i] * pMiss for i in range(len(p))]\n",
    "    sump = sum(p)\n",
    "    q = [p[i]/sump for i in range(len(p))] \n",
    "    return q\n",
    "print(sense(p,Z))"
   ]
  },
  {
   "cell_type": "code",
   "execution_count": 29,
   "metadata": {},
   "outputs": [],
   "source": [
    "#Modify the code so that it updates the probability twice\n",
    "#and gives the posterior distribution after both \n",
    "#measurements are incorporated. Make sure that your code \n",
    "#allows for any sequence of measurement of any length.\n",
    "p=[0.2, 0.2, 0.2, 0.2, 0.2]\n",
    "world=['green', 'red', 'red', 'green', 'green']\n",
    "# measurements = ['red', 'green']\n",
    "pHit = 0.6\n",
    "pMiss = 0.2\n",
    "\n",
    "def sense(p, Z):\n",
    "    q=[]\n",
    "    for i in range(len(p)):\n",
    "        hit = (Z == world[i])\n",
    "        q.append(p[i] * (hit * pHit + (1-hit) * pMiss))\n",
    "    s = sum(q)\n",
    "    for i in range(len(q)):\n",
    "        q[i] = q[i] / s\n",
    "    return q\n",
    "\n",
    "def measure(measurements, p):\n",
    "    for m in measurements:\n",
    "        p = sense(p, m)\n",
    "#         print(sum(p))\n",
    "        print(p)\n",
    "#     return p\n",
    "## the result is back to the uniform distribution, "
   ]
  },
  {
   "cell_type": "markdown",
   "metadata": {},
   "source": [
    "### how to interpret the following result??"
   ]
  },
  {
   "cell_type": "code",
   "execution_count": 30,
   "metadata": {},
   "outputs": [
    {
     "name": "stdout",
     "output_type": "stream",
     "text": [
      "[0.1111111111111111, 0.3333333333333332, 0.3333333333333332, 0.1111111111111111, 0.1111111111111111]\n",
      "[0.20000000000000004, 0.19999999999999996, 0.19999999999999996, 0.20000000000000004, 0.20000000000000004]\n",
      "None\n"
     ]
    }
   ],
   "source": [
    "measurements = ['red', 'green']\n",
    "print(measure(measurements, p))"
   ]
  },
  {
   "cell_type": "code",
   "execution_count": 31,
   "metadata": {},
   "outputs": [
    {
     "name": "stdout",
     "output_type": "stream",
     "text": [
      "[0.1111111111111111, 0.3333333333333332, 0.3333333333333332, 0.1111111111111111, 0.1111111111111111]\n",
      "[0.20000000000000004, 0.19999999999999996, 0.19999999999999996, 0.20000000000000004, 0.20000000000000004]\n",
      "[0.11111111111111113, 0.33333333333333326, 0.33333333333333326, 0.11111111111111113, 0.11111111111111113]\n",
      "[0.04761904761904763, 0.4285714285714285, 0.4285714285714285, 0.04761904761904763, 0.04761904761904763]\n",
      "None\n"
     ]
    }
   ],
   "source": [
    "measurements = ['red', 'green', 'red', 'red']\n",
    "print(measure(measurements, p))"
   ]
  },
  {
   "cell_type": "code",
   "execution_count": 32,
   "metadata": {},
   "outputs": [
    {
     "name": "stdout",
     "output_type": "stream",
     "text": [
      "[0.1111111111111111, 0.3333333333333332, 0.3333333333333332, 0.1111111111111111, 0.1111111111111111]\n",
      "[0.20000000000000004, 0.19999999999999996, 0.19999999999999996, 0.20000000000000004, 0.20000000000000004]\n",
      "[0.27272727272727276, 0.09090909090909088, 0.09090909090909088, 0.27272727272727276, 0.27272727272727276]\n",
      "[0.20000000000000007, 0.19999999999999996, 0.19999999999999996, 0.20000000000000007, 0.20000000000000007]\n",
      "None\n"
     ]
    }
   ],
   "source": [
    "measurements = ['red', 'green', 'green', 'red']\n",
    "print(measure(measurements, p))"
   ]
  },
  {
   "cell_type": "markdown",
   "metadata": {},
   "source": [
    "## exact move"
   ]
  },
  {
   "cell_type": "code",
   "execution_count": 52,
   "metadata": {},
   "outputs": [
    {
     "name": "stdout",
     "output_type": "stream",
     "text": [
      "[0, 1, 1, 0, 0]\n",
      "[1, 1, 0, 0, 0]\n"
     ]
    }
   ],
   "source": [
    "#Program a function that returns a new distribution \n",
    "#q, shifted to the right by U units. If U=0, q should \n",
    "#be the same as p.\n",
    "\n",
    "p=[1, 1, 0, 0, 0]\n",
    "# world=['green', 'red', 'red', 'green', 'green']\n",
    "# measurements = ['red', 'green']\n",
    "# pHit = 0.6\n",
    "# pMiss = 0.2\n",
    "\n",
    "# def sense(p, Z):\n",
    "#     q=[]\n",
    "#     for i in range(len(p)):\n",
    "#         hit = (Z == world[i])\n",
    "#         q.append(p[i] * (hit * pHit + (1-hit) * pMiss))\n",
    "#     s = sum(q)\n",
    "#     for i in range(len(q)):\n",
    "#         q[i] = q[i] / s\n",
    "#     return q\n",
    "\n",
    "def move(p, U):\n",
    "    #\n",
    "    #ADD CODE HERE\n",
    "    #\n",
    "    q = []\n",
    "    # my solution:\n",
    "#     if U < len(p):\n",
    "#         for i in range(U):\n",
    "#             q.append(p[len(p)-1-i])\n",
    "#         for i in range(len(p)-U):\n",
    "#             q.append(p[i])\n",
    "            \n",
    "    # lecture solution - 1\n",
    "    for i in range(len(p)):\n",
    "        q.append(p[(i-U) % len(p)])\n",
    "\n",
    "    # lecture solution - 2\n",
    "    U = U % len(p)\n",
    "    q = p[-U:] + p[:-U]\n",
    "    return q\n",
    "\n",
    "print(move(p, 1))\n",
    "print(move(p, 10))\n"
   ]
  },
  {
   "cell_type": "code",
   "execution_count": 62,
   "metadata": {},
   "outputs": [],
   "source": [
    "#Modify the move function to accommodate the added \n",
    "#probabilities of overshooting or undershooting \n",
    "#the intended destination.\n",
    "\n",
    "# p=[0, 1, 0, 0, 0]\n",
    "# world=['green', 'red', 'red', 'green', 'green']\n",
    "# measurements = ['red', 'green']\n",
    "# pHit = 0.6\n",
    "# pMiss = 0.2\n",
    "pExact = 0.8\n",
    "pOvershoot = 0.1\n",
    "pUndershoot = 0.1\n",
    "\n",
    "# def sense(p, Z):\n",
    "#     q=[]\n",
    "#     for i in range(len(p)):\n",
    "#         hit = (Z == world[i])\n",
    "#         q.append(p[i] * (hit * pHit + (1-hit) * pMiss))\n",
    "#     s = sum(q)\n",
    "#     for i in range(len(q)):\n",
    "#         q[i] = q[i] / s\n",
    "#     return q\n",
    "\n",
    "def move(p, U):\n",
    "    q = []\n",
    "    for i in range(len(p)):\n",
    "        # lecture code, unfortunately i can not make it. \n",
    "        s = pExact * p[(i-U)%len(p)]\n",
    "#         s += pOvershoot * p[(i-U+1)%len(p)]\n",
    "        # index minus one for overshoot, why? \n",
    "        s += pOvershoot * p[(i-U - 1)%len(p)]\n",
    "#         s += pUndershoot * p[(i-U-1)%len(p)]\n",
    "        # index plus one for undershoot, why?\n",
    "        s += pUndershoot * p[(i-U+1)%len(p)]\n",
    "        q.append(s)\n",
    "    return q"
   ]
  },
  {
   "cell_type": "code",
   "execution_count": 63,
   "metadata": {},
   "outputs": [
    {
     "name": "stdout",
     "output_type": "stream",
     "text": [
      "[0.0, 0.1, 0.8, 0.1, 0.0]\n"
     ]
    }
   ],
   "source": [
    "p=[0, 1, 0, 0, 0]\n",
    "print(move(p, 1))"
   ]
  },
  {
   "cell_type": "code",
   "execution_count": 64,
   "metadata": {},
   "outputs": [
    {
     "name": "stdout",
     "output_type": "stream",
     "text": [
      "[0.20000000000000007, 0.20000000000000007, 0.20000000000000007, 0.20000000000000007, 0.20000000000000007]\n"
     ]
    }
   ],
   "source": [
    "## for the uniform distribution, the result is uniform distribution, no matter how to move\n",
    "p=[0.2, 0.2, 0.2, 0.2, 0.2]\n",
    "print(move(p, 1))"
   ]
  },
  {
   "cell_type": "markdown",
   "metadata": {},
   "source": [
    "#### limitted distribution"
   ]
  },
  {
   "cell_type": "code",
   "execution_count": 69,
   "metadata": {},
   "outputs": [
    {
     "name": "stdout",
     "output_type": "stream",
     "text": [
      "[0.200235760069234, 0.2000728537888774, 0.1998092661765075, 0.19980926617650746, 0.2000728537888774]\n"
     ]
    }
   ],
   "source": [
    "## the result shows that the final result is uniform distributed. \n",
    "p=[1, 0, 0, 0, 0]\n",
    "for i in range(50):\n",
    "    p = move(p,1)\n",
    "print(p)"
   ]
  },
  {
   "cell_type": "markdown",
   "metadata": {},
   "source": [
    "## sense and move"
   ]
  },
  {
   "cell_type": "code",
   "execution_count": 82,
   "metadata": {
    "collapsed": true
   },
   "outputs": [],
   "source": [
    "def entropy(p):\n",
    "    # math.log10, math.log, should use log10\n",
    "    p = [-pi * math.log10(pi) for pi in p]\n",
    "    return sum(p)"
   ]
  },
  {
   "cell_type": "code",
   "execution_count": 83,
   "metadata": {},
   "outputs": [
    {
     "name": "stdout",
     "output_type": "stream",
     "text": [
      "0.6989700043360187\n"
     ]
    }
   ],
   "source": [
    "p=[0.2, 0.2, 0.2, 0.2, 0.2]\n",
    "print(entropy(p))"
   ]
  },
  {
   "cell_type": "code",
   "execution_count": null,
   "metadata": {
    "collapsed": true
   },
   "outputs": [],
   "source": [
    "def sense_and_move():\n",
    "    print(entropy(p))\n",
    "    for i, m in enumerate(motions):\n",
    "        # my answer, which is not correct:\n",
    "    #     pMove = move(p, m)  # move right unit 1\n",
    "    #     pSense = sense(p, measurements[i]) # the sense probability\n",
    "    #     p = [i*j for i, j in zip(pMove, pSense)]\n",
    "        # the lecture's answer\n",
    "        ## first do sense and then move, and there is no probability mutiplication. why?\n",
    "        ## also, given the result, how to interpret the it within the given data context? \n",
    "        p = sense(p, measurements[i]) # the sense probability\n",
    "        print()\n",
    "        print(\"after sense: \" + str(entropy(p)))    ## should decrease\n",
    "        p = move(p, m)  # move right unit 1\n",
    "        print(\"after move: \" + str(entropy(p)))    ## should increase"
   ]
  },
  {
   "cell_type": "code",
   "execution_count": 87,
   "metadata": {},
   "outputs": [
    {
     "name": "stdout",
     "output_type": "stream",
     "text": [
      "0.6989700043360187\n",
      "Sensing-----------\n",
      "[0.1111111111111111, 0.3333333333333332, 0.3333333333333332, 0.1111111111111111, 0.1111111111111111]\n",
      "after sense: 0.6361616729595498\n",
      "Moving-----------\n",
      "[0.11111111111111112, 0.13333333333333333, 0.311111111111111, 0.311111111111111, 0.1333333333333333]\n",
      "after move: 0.6548958465470218\n",
      "Sensing-----------\n",
      "[0.1578947368421053, 0.06315789473684212, 0.1473684210526316, 0.44210526315789467, 0.1894736842105263]\n",
      "after sense: 0.6184873508024925\n",
      "Moving-----------\n",
      "[0.21157894736842103, 0.1515789473684211, 0.08105263157894739, 0.16842105263157897, 0.3873684210526316]\n",
      "after move: 0.6451998297748291\n",
      "[0.21157894736842103, 0.1515789473684211, 0.08105263157894739, 0.16842105263157897, 0.3873684210526316]\n"
     ]
    }
   ],
   "source": [
    "#Given the list motions=[1,1] which means the robot \n",
    "#moves right and then right again, compute the posterior \n",
    "#distribution if the robot first senses red, then moves \n",
    "#right one, then senses green, then moves right again, \n",
    "#starting with a uniform prior distribution.\n",
    "def sense(p, Z):\n",
    "    q=[]\n",
    "    for i in range(len(p)):\n",
    "        hit = (Z == world[i])\n",
    "        q.append(p[i] * (hit * pHit + (1-hit) * pMiss))\n",
    "    s = sum(q)\n",
    "    for i in range(len(q)):\n",
    "        q[i] = q[i] / s\n",
    "    return q\n",
    "\n",
    "def move(p, U):\n",
    "    q = []\n",
    "    for i in range(len(p)):\n",
    "        s = pExact * p[(i-U) % len(p)]\n",
    "        s = s + pOvershoot * p[(i-U-1) % len(p)]\n",
    "        s = s + pUndershoot * p[(i-U+1) % len(p)]\n",
    "        q.append(s)\n",
    "    return q\n",
    "#\n",
    "# ADD CODE HERE\n",
    "#\n",
    "p=[0.2, 0.2, 0.2, 0.2, 0.2]\n",
    "world=['green', 'red', 'red', 'green', 'green']\n",
    "measurements = ['red', 'green']\n",
    "motions = [1,1]\n",
    "pHit = 0.6\n",
    "pMiss = 0.2\n",
    "pExact = 0.8\n",
    "pOvershoot = 0.1\n",
    "pUndershoot = 0.1\n",
    "print(entropy(p))\n",
    "for i, m in enumerate(motions):\n",
    "    # my answer, which is not correct:\n",
    "#     pMove = move(p, m)  # move right unit 1\n",
    "#     pSense = sense(p, measurements[i]) # the sense probability\n",
    "#     p = [i*j for i, j in zip(pMove, pSense)]\n",
    "    # the lecture's answer\n",
    "    ## first do sense and then move, and there is no probability mutiplication. why?\n",
    "    ## also, given the result, how to interpret the it within the given data context? \n",
    "    p = sense(p, measurements[i]) # the sense probability\n",
    "    print(\"Sensing-----------\")\n",
    "    print(p)\n",
    "    print(\"after sense: \" + str(entropy(p)))    ## should decrease\n",
    "    p = move(p, m)  # move right unit 1\n",
    "    print(\"Moving-----------\")\n",
    "    print(p)\n",
    "    print(\"after move: \" + str(entropy(p)))    ## should increase\n",
    "print(p)  \n",
    "\n",
    "## the entropy is changing as expected, amazing the math!\n",
    "## the overall uncertainty is decreasing. "
   ]
  },
  {
   "cell_type": "code",
   "execution_count": 86,
   "metadata": {},
   "outputs": [
    {
     "name": "stdout",
     "output_type": "stream",
     "text": [
      "0.6989700043360187\n",
      "after sense: 0.6361616729595498\n",
      "after move: 0.6548958465470218\n",
      "after sense: 0.5767021573372502\n",
      "after move: 0.6111705754118897\n",
      "[0.07882352941176471, 0.07529411764705884, 0.22470588235294123, 0.4329411764705882, 0.18823529411764706]\n"
     ]
    }
   ],
   "source": [
    "p=[0.2, 0.2, 0.2, 0.2, 0.2]\n",
    "measurements = ['red', 'red']\n",
    "print(entropy(p))\n",
    "for i, m in enumerate(motions):\n",
    "    # my answer, which is not correct:\n",
    "#     pMove = move(p, m)  # move right unit 1\n",
    "#     pSense = sense(p, measurements[i]) # the sense probability\n",
    "#     p = [i*j for i, j in zip(pMove, pSense)]\n",
    "    # the lecture's answer\n",
    "    ## first do sense and then move, and there is no probability mutiplication. why?\n",
    "    ## also, given the result, how to interpret the it within the given data context? \n",
    "    p = sense(p, measurements[i]) # the sense probability\n",
    "    print(\"after sense: \" + str(entropy(p)))    ## should decrease\n",
    "    p = move(p, m)  # move right unit 1\n",
    "    print(\"after move: \" + str(entropy(p)))    ## should increase\n",
    "print(p)  "
   ]
  },
  {
   "cell_type": "markdown",
   "metadata": {},
   "source": [
    "### move one more step right, with sense \"green\", check the probability of cell 5"
   ]
  },
  {
   "cell_type": "code",
   "execution_count": 88,
   "metadata": {},
   "outputs": [
    {
     "name": "stdout",
     "output_type": "stream",
     "text": [
      "0.6989700043360187\n",
      "Sensing-----------\n",
      "[0.1111111111111111, 0.3333333333333332, 0.3333333333333332, 0.1111111111111111, 0.1111111111111111]\n",
      "after sense: 0.6361616729595498\n",
      "Moving-----------\n",
      "[0.11111111111111112, 0.13333333333333333, 0.311111111111111, 0.311111111111111, 0.1333333333333333]\n",
      "after move: 0.6548958465470218\n",
      "Sensing-----------\n",
      "[0.1578947368421053, 0.06315789473684212, 0.1473684210526316, 0.44210526315789467, 0.1894736842105263]\n",
      "after sense: 0.6184873508024925\n",
      "Moving-----------\n",
      "[0.21157894736842103, 0.1515789473684211, 0.08105263157894739, 0.16842105263157897, 0.3873684210526316]\n",
      "after move: 0.6451998297748291\n",
      "Sensing-----------\n",
      "[0.25041528239202654, 0.059800664451827266, 0.03197674418604652, 0.1993355481727575, 0.4584717607973422]\n",
      "after sense: 0.5664451142772899\n",
      "Moving-----------\n",
      "[0.4117524916943522, 0.2521594684385382, 0.07607973421926911, 0.0514950166112957, 0.20851328903654492]\n",
      "after move: 0.6029678272898018\n",
      "[0.4117524916943522, 0.2521594684385382, 0.07607973421926911, 0.0514950166112957, 0.20851328903654492]\n"
     ]
    }
   ],
   "source": [
    "p=[0.2, 0.2, 0.2, 0.2, 0.2]\n",
    "world=['green', 'red', 'red', 'green', 'green']\n",
    "measurements = ['red', 'green', 'green']\n",
    "motions = [1,1, 1]\n",
    "print(entropy(p))\n",
    "for i, m in enumerate(motions):\n",
    "    # my answer, which is not correct:\n",
    "#     pMove = move(p, m)  # move right unit 1\n",
    "#     pSense = sense(p, measurements[i]) # the sense probability\n",
    "#     p = [i*j for i, j in zip(pMove, pSense)]\n",
    "    # the lecture's answer\n",
    "    ## first do sense and then move, and there is no probability mutiplication. why?\n",
    "    ## also, given the result, how to interpret the it within the given data context? \n",
    "    p = sense(p, measurements[i]) # the sense probability\n",
    "    print(\"Sensing-----------\")\n",
    "    print(p)\n",
    "    print(\"after sense: \" + str(entropy(p)))    ## should decrease\n",
    "    p = move(p, m)  # move right unit 1\n",
    "    print(\"Moving-----------\")\n",
    "    print(p)\n",
    "    print(\"after move: \" + str(entropy(p)))    ## should increase\n",
    "print(p)  "
   ]
  },
  {
   "cell_type": "markdown",
   "metadata": {},
   "source": [
    "### let's try again, move right one more step, but this time, it senses \"red\" (incorrectly) instead of \"green\", let's see the result:\n"
   ]
  },
  {
   "cell_type": "code",
   "execution_count": 89,
   "metadata": {},
   "outputs": [
    {
     "name": "stdout",
     "output_type": "stream",
     "text": [
      "0.6989700043360187\n",
      "Sensing-----------\n",
      "[0.1111111111111111, 0.3333333333333332, 0.3333333333333332, 0.1111111111111111, 0.1111111111111111]\n",
      "after sense: 0.6361616729595498\n",
      "Moving-----------\n",
      "[0.11111111111111112, 0.13333333333333333, 0.311111111111111, 0.311111111111111, 0.1333333333333333]\n",
      "after move: 0.6548958465470218\n",
      "Sensing-----------\n",
      "[0.1578947368421053, 0.06315789473684212, 0.1473684210526316, 0.44210526315789467, 0.1894736842105263]\n",
      "after sense: 0.6184873508024925\n",
      "Moving-----------\n",
      "[0.21157894736842103, 0.1515789473684211, 0.08105263157894739, 0.16842105263157897, 0.3873684210526316]\n",
      "after move: 0.6451998297748291\n",
      "Sensing-----------\n",
      "[0.1443965517241379, 0.31034482758620696, 0.165948275862069, 0.1149425287356322, 0.26436781609195403]\n",
      "after sense: 0.6692448760666064\n",
      "Moving-----------\n",
      "[0.23742816091954028, 0.17298850574712643, 0.27931034482758627, 0.17528735632183914, 0.13498563218390808]\n",
      "after move: 0.6847537626891254\n",
      "[0.23742816091954028, 0.17298850574712643, 0.27931034482758627, 0.17528735632183914, 0.13498563218390808]\n"
     ]
    }
   ],
   "source": [
    "p=[0.2, 0.2, 0.2, 0.2, 0.2]\n",
    "world=['green', 'red', 'red', 'green', 'green']\n",
    "measurements = ['red', 'green', 'red']\n",
    "motions = [1,1, 1]\n",
    "print(entropy(p))\n",
    "for i, m in enumerate(motions):\n",
    "    # my answer, which is not correct:\n",
    "#     pMove = move(p, m)  # move right unit 1\n",
    "#     pSense = sense(p, measurements[i]) # the sense probability\n",
    "#     p = [i*j for i, j in zip(pMove, pSense)]\n",
    "    # the lecture's answer\n",
    "    ## first do sense and then move, and there is no probability mutiplication. why?\n",
    "    ## also, given the result, how to interpret the it within the given data context? \n",
    "    p = sense(p, measurements[i]) # the sense probability\n",
    "    print(\"Sensing-----------\")\n",
    "    print(p)\n",
    "    print(\"after sense: \" + str(entropy(p)))    ## should decrease\n",
    "    p = move(p, m)  # move right unit 1\n",
    "    print(\"Moving-----------\")\n",
    "    print(p)\n",
    "    print(\"after move: \" + str(entropy(p)))    ## should increase\n",
    "print(p)  "
   ]
  },
  {
   "cell_type": "code",
   "execution_count": null,
   "metadata": {
    "collapsed": true
   },
   "outputs": [],
   "source": []
  }
 ],
 "metadata": {
  "kernelspec": {
   "display_name": "Python 3",
   "language": "python",
   "name": "python3"
  },
  "language_info": {
   "codemirror_mode": {
    "name": "ipython",
    "version": 3
   },
   "file_extension": ".py",
   "mimetype": "text/x-python",
   "name": "python",
   "nbconvert_exporter": "python",
   "pygments_lexer": "ipython3",
   "version": "3.6.0"
  }
 },
 "nbformat": 4,
 "nbformat_minor": 2
}
