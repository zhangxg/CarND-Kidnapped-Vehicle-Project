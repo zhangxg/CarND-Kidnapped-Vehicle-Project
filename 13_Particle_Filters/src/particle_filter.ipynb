{
 "cells": [
  {
   "cell_type": "code",
   "execution_count": 1,
   "metadata": {
    "collapsed": true
   },
   "outputs": [],
   "source": [
    "from math import *\n",
    "import random"
   ]
  },
  {
   "cell_type": "code",
   "execution_count": 2,
   "metadata": {
    "collapsed": true
   },
   "outputs": [],
   "source": [
    "landmarks  = [[20.0, 20.0], [80.0, 80.0], [20.0, 80.0], [80.0, 20.0]]\n",
    "world_size = 100.0"
   ]
  },
  {
   "cell_type": "code",
   "execution_count": 3,
   "metadata": {
    "collapsed": true
   },
   "outputs": [],
   "source": [
    "class robot:\n",
    "    def __init__(self):\n",
    "        self.x = random.random() * world_size\n",
    "        self.y = random.random() * world_size\n",
    "        self.orientation = random.random() * 2.0 * pi\n",
    "        self.forward_noise = 0.0;\n",
    "        self.turn_noise    = 0.0;\n",
    "        self.sense_noise   = 0.0;\n",
    "    \n",
    "    def set(self, new_x, new_y, new_orientation):\n",
    "        if new_x < 0 or new_x >= world_size:\n",
    "#             raise ValueError, 'X coordinate out of bound'\n",
    "            raise ValueError('X coordinate out of bound')\n",
    "        if new_y < 0 or new_y >= world_size:\n",
    "#             raise ValueError, 'Y coordinate out of bound'\n",
    "            raise ValueError('Y coordinate out of bound')\n",
    "        if new_orientation < 0 or new_orientation >= 2 * pi:\n",
    "#             raise ValueError, 'Orientation must be in [0..2pi]'\n",
    "            raise ValueError('Orientation must be in [0..2pi]')\n",
    "        self.x = float(new_x)\n",
    "        self.y = float(new_y)\n",
    "        self.orientation = float(new_orientation)\n",
    "    \n",
    "    def set_noise(self, new_f_noise, new_t_noise, new_s_noise):\n",
    "        # makes it possible to change the noise parameters\n",
    "        # this is often useful in particle filters\n",
    "        self.forward_noise = float(new_f_noise);\n",
    "        self.turn_noise    = float(new_t_noise);\n",
    "        self.sense_noise   = float(new_s_noise);\n",
    "    \n",
    "    def sense(self):\n",
    "        Z = []\n",
    "        for i in range(len(landmarks)):\n",
    "            dist = sqrt((self.x - landmarks[i][0]) ** 2 + (self.y - landmarks[i][1]) ** 2)\n",
    "            dist += random.gauss(0.0, self.sense_noise)\n",
    "            Z.append(dist)\n",
    "        return Z\n",
    "    \n",
    "    def move(self, turn, forward):\n",
    "        if forward < 0:\n",
    "#             raise ValueError, 'Robot cant move backwards'\n",
    "            raise ValueError('Robot cant move backwards')\n",
    "        \n",
    "        # turn, and add randomness to the turning command\n",
    "        orientation = self.orientation + float(turn) + random.gauss(0.0, self.turn_noise)\n",
    "        orientation %= 2 * pi\n",
    "        \n",
    "        # move, and add randomness to the motion command\n",
    "        dist = float(forward) + random.gauss(0.0, self.forward_noise)\n",
    "        x = self.x + (cos(orientation) * dist)\n",
    "        y = self.y + (sin(orientation) * dist)\n",
    "        x %= world_size    # cyclic truncate\n",
    "        y %= world_size\n",
    "        \n",
    "        # set particle\n",
    "        res = robot()\n",
    "        res.set(x, y, orientation)\n",
    "        res.set_noise(self.forward_noise, self.turn_noise, self.sense_noise)\n",
    "        return res\n",
    "    \n",
    "    def Gaussian(self, mu, sigma, x):\n",
    "        # calculates the probability of x for 1-dim Gaussian with mean mu and var. sigma\n",
    "        return exp(- ((mu - x) ** 2) / (sigma ** 2) / 2.0) / sqrt(2.0 * pi * (sigma ** 2))\n",
    "    \n",
    "    def measurement_prob(self, measurement):\n",
    "        # calculates how likely a measurement should be\n",
    "        prob = 1.0;\n",
    "        for i in range(len(landmarks)):\n",
    "            dist = sqrt((self.x - landmarks[i][0]) ** 2 + (self.y - landmarks[i][1]) ** 2)\n",
    "            prob *= self.Gaussian(dist, self.sense_noise, measurement[i])\n",
    "        return prob\n",
    "\n",
    "    def __repr__(self):\n",
    "        return '[x=%.6s y=%.6s orient=%.6s]' % (str(self.x), str(self.y), str(self.orientation))"
   ]
  },
  {
   "cell_type": "code",
   "execution_count": 4,
   "metadata": {
    "collapsed": true
   },
   "outputs": [],
   "source": [
    "def eval(r, p):\n",
    "    sum = 0.0;\n",
    "    for i in range(len(p)): # calculate mean error\n",
    "        dx = (p[i].x - r.x + (world_size/2.0)) % world_size - (world_size/2.0)\n",
    "        dy = (p[i].y - r.y + (world_size/2.0)) % world_size - (world_size/2.0)\n",
    "        err = sqrt(dx * dx + dy * dy)\n",
    "        sum += err\n",
    "    return sum / float(len(p))"
   ]
  },
  {
   "cell_type": "code",
   "execution_count": 5,
   "metadata": {},
   "outputs": [
    {
     "name": "stdout",
     "output_type": "stream",
     "text": [
      "[x=30.0 y=50.0 orient=1.5707]\n",
      "[x=45.0 y=50.0 orient=0.0]\n",
      "[39.05124837953327, 46.09772228646444, 39.05124837953327, 46.09772228646444]\n",
      "[x=45.0 y=40.0 orient=4.7123]\n",
      "[32.01562118716424, 53.150729063673246, 47.16990566028302, 40.311288741492746]\n"
     ]
    }
   ],
   "source": [
    "# Make a robot called myrobot that starts at\n",
    "# coordinates 30, 50 heading north (pi/2).\n",
    "# Have your robot turn clockwise by pi/2, move\n",
    "# 15 m, and sense. Then have it turn clockwise\n",
    "# by pi/2 again, move 10 m, and sense again.\n",
    "#\n",
    "# Your program should print out the result of\n",
    "# your two sense measurements.\n",
    "#\n",
    "# Don't modify the code below. Please enter\n",
    "# your code at the bottom.\n",
    "myrobot = robot()\n",
    "myrobot.set(30, 50, pi/2)\n",
    "print(myrobot)\n",
    "myrobot = myrobot.move(-pi/2, 15)\n",
    "print(myrobot)\n",
    "print(myrobot.sense())\n",
    "myrobot = myrobot.move(-pi/2, 10)\n",
    "print(myrobot)\n",
    "print(myrobot.sense())"
   ]
  },
  {
   "cell_type": "code",
   "execution_count": 6,
   "metadata": {},
   "outputs": [
    {
     "name": "stdout",
     "output_type": "stream",
     "text": [
      "[x=30.0 y=50.0 orient=1.5707]\n",
      "[x=44.691 y=51.508 orient=0.1023]\n",
      "[44.08942010155568, 44.61597432272947, 37.870983693659205, 54.813346981710154]\n",
      "[x=45.329 y=45.815 orient=4.8239]\n",
      "[37.71293910149666, 51.137255149718584, 48.71957970255263, 46.388982865099614]\n"
     ]
    }
   ],
   "source": [
    "# Now add noise to your robot as follows:\n",
    "# forward_noise = 5.0, turn_noise = 0.1,\n",
    "# sense_noise = 5.0.\n",
    "#\n",
    "# Once again, your robot starts at 30, 50,\n",
    "# heading north (pi/2), then turns clockwise\n",
    "# by pi/2, moves 15 meters, senses,\n",
    "# then turns clockwise by pi/2 again, moves\n",
    "# 10 m, then senses again.\n",
    "#\n",
    "# Your program should print out the result of\n",
    "# your two sense measurements.\n",
    "#\n",
    "forward_noise = 5.0\n",
    "turn_noise = 0.1\n",
    "sense_noise = 5.0\n",
    "\n",
    "myrobot = robot()\n",
    "myrobot.set_noise(forward_noise, turn_noise, sense_noise)\n",
    "myrobot.set(30, 50, pi/2)\n",
    "print(myrobot)\n",
    "myrobot = myrobot.move(-pi/2, 15)\n",
    "print(myrobot)\n",
    "print(myrobot.sense())\n",
    "myrobot = myrobot.move(-pi/2, 10)\n",
    "print(myrobot)\n",
    "print(myrobot.sense())"
   ]
  },
  {
   "cell_type": "code",
   "execution_count": 7,
   "metadata": {
    "scrolled": true
   },
   "outputs": [
    {
     "name": "stdout",
     "output_type": "stream",
     "text": [
      "1000\n",
      "[[x=66.219 y=39.766 orient=5.5582], [x=73.402 y=88.208 orient=2.5351], [x=23.424 y=63.161 orient=4.9126], [x=91.851 y=94.965 orient=6.0717], [x=1.7520 y=79.590 orient=1.6031], [x=14.797 y=74.940 orient=3.9640], [x=37.080 y=94.767 orient=5.0397], [x=48.613 y=77.045 orient=2.5678], [x=74.502 y=82.385 orient=1.8730], [x=21.968 y=28.116 orient=3.8272]]\n"
     ]
    }
   ],
   "source": [
    "## initialize the particles\n",
    "N = 1000\n",
    "p = []\n",
    "p = [robot() for i in range(N)]\n",
    "print(len(p))\n",
    "print(p[:10])"
   ]
  },
  {
   "cell_type": "code",
   "execution_count": 8,
   "metadata": {},
   "outputs": [
    {
     "name": "stdout",
     "output_type": "stream",
     "text": [
      "[[x=70.274 y=36.841 orient=5.6582], [x=69.030 y=90.633 orient=2.6351], [x=24.903 y=58.385 orient=5.0126], [x=96.820 y=94.409 orient=6.1717], [x=1.0923 y=84.546 orient=1.7031], [x=11.778 y=70.955 orient=4.0640], [x=39.152 y=90.217 orient=5.1397], [x=44.163 y=79.326 orient=2.6678], [x=72.545 y=86.986 orient=1.9730], [x=18.433 y=24.580 orient=3.9272]]\n"
     ]
    }
   ],
   "source": [
    "# Now we want to simulate robot\n",
    "# motion with our particles.\n",
    "# Each particle should turn by 0.1\n",
    "# and then move by 5. \n",
    "p = [pi.move(0.1, 5) for pi in p]\n",
    "print(p[:10])"
   ]
  },
  {
   "cell_type": "code",
   "execution_count": 16,
   "metadata": {},
   "outputs": [
    {
     "data": {
      "text/plain": [
       "[2.503693439033037e-15,\n",
       " 2.6397838049371558e-120,\n",
       " 9.362062545755115e-45,\n",
       " 4.776369421472468e-123,\n",
       " 1.5935907792251127e-17,\n",
       " 2.106312723124122e-110,\n",
       " 7.53311886077369e-101,\n",
       " 4.3803810380330645e-91,\n",
       " 1.964347632090561e-55,\n",
       " 5.216496641826595e-91]"
      ]
     },
     "execution_count": 16,
     "metadata": {},
     "output_type": "execute_result"
    }
   ],
   "source": [
    "# Now we want to give weight to our \n",
    "# particles. This program will print a\n",
    "# list of 1000 particle weights.\n",
    "myrobot = robot()\n",
    "myrobot.move(0.1, 5)\n",
    "Z = myrobot.sense()   # this is the measurement, more precisely, the robot's measurements\n",
    "\n",
    "N = 1000\n",
    "particles = []\n",
    "particles = [robot() for i in range(N)]\n",
    "for p in particles:\n",
    "    p.set_noise(0.05, 0.05, 5.0)\n",
    "\n",
    "p2 = []\n",
    "for i in range(N):\n",
    "    p2.append(particles[i].move(0.1, 5.0))\n",
    "particles = p2\n",
    "\n",
    "p_weights = []\n",
    "p_weights = [p.measurement_prob(Z) for p in particles]\n",
    "# print(p_weights[:10])\n",
    "p_weights[:10]"
   ]
  },
  {
   "cell_type": "code",
   "execution_count": 18,
   "metadata": {},
   "outputs": [
    {
     "data": {
      "text/plain": [
       "[[x=98.269 y=75.864 orient=1.8605],\n",
       " [x=31.116 y=42.695 orient=1.8537],\n",
       " [x=4.8557 y=3.3775 orient=2.9386],\n",
       " [x=94.393 y=11.028 orient=4.9682],\n",
       " [x=81.650 y=72.834 orient=3.3452],\n",
       " [x=66.876 y=43.367 orient=0.8848],\n",
       " [x=32.589 y=3.0317 orient=5.0407],\n",
       " [x=18.580 y=82.416 orient=3.8526],\n",
       " [x=41.994 y=84.850 orient=5.5788],\n",
       " [x=20.559 y=52.615 orient=4.1309]]"
      ]
     },
     "execution_count": 18,
     "metadata": {},
     "output_type": "execute_result"
    }
   ],
   "source": [
    "# In this exercise, try to write a program that\n",
    "# will resample particles according to their weights.\n",
    "# Particles with higher weights should be sampled\n",
    "# more frequently (in proportion to their weight).\n",
    "# You should make sure that p3 contains a list with particles\n",
    "# resampled according to their weights.\n",
    "# Also, DO NOT MODIFY p.\n",
    "sampled = [random.randint(0, 999) for i in range(N)]\n",
    "p3 = [particles[s] for s in sampled]\n",
    "p3[:10]"
   ]
  },
  {
   "cell_type": "code",
   "execution_count": 62,
   "metadata": {},
   "outputs": [],
   "source": [
    "def sample_wheel(imp_weights, particles):\n",
    "    # normalize the importance weights\n",
    "    ###  don't need to normalize\n",
    "#     weights_sum = sum(imp_weights)\n",
    "#     normalized_weights = [w/weights_sum for w in imp_weights]\n",
    "#     print(len(normalized_weights))\n",
    "    \n",
    "    ## the sample wheel\n",
    "    picked_particle = []\n",
    "#     index = int(random.uniform(0, N-1))\n",
    "    index = int(random.random() * N)\n",
    "#     print(index)\n",
    "    beta = 0\n",
    "#     w_max = max(normalized_weights)   # the max of normalized weights\n",
    "    w_max = max(imp_weights)\n",
    "    for i in range(N):\n",
    "#         beta += random.uniform(0, 2*w_max)\n",
    "        beta += random.random()* 2 * w_max\n",
    "#         print(index)\n",
    "#         if normalized_weights[index] < beta:\n",
    "#             beta -= normalized_weights[index]\n",
    "#             index += 1\n",
    "#         else:\n",
    "#             picked_particle.append(index)\n",
    "        while imp_weights[index] < beta:\n",
    "            beta -= imp_weights[index]\n",
    "            index = (index + 1) % N\n",
    "        picked_particle.append(particles[index])\n",
    "    return picked_particle    "
   ]
  },
  {
   "cell_type": "code",
   "execution_count": 69,
   "metadata": {},
   "outputs": [
    {
     "name": "stdout",
     "output_type": "stream",
     "text": [
      "37.682846884123954\n",
      " ======= filtering ======\n",
      "4.475604513735873\n",
      "3.0082267784349996\n",
      "2.5038821707501873\n",
      "2.264698294083216\n",
      "2.1073365329034575\n",
      "2.0220679569551407\n",
      "1.9123993936375094\n",
      "1.862396005629863\n",
      "1.7839882334086237\n",
      "1.6877885989823902\n"
     ]
    }
   ],
   "source": [
    "myrobot = robot()\n",
    "N = 1000\n",
    "particles = [robot() for i in range(N)]\n",
    "for p in particles:\n",
    "    p.set_noise(0.05, 0.05, 5.0)\n",
    "print(eval(myrobot, particles))\n",
    "print(\" ======= filtering ======\")\n",
    "T = 10\n",
    "for i in range(T):\n",
    "    myrobot.move(0.1, 5)\n",
    "    Z = myrobot.sense()   # this is the measurement, more precisely, the robot's measurements\n",
    "    p_weights = [p.measurement_prob(Z) for p in particles]\n",
    "    particles = sample_wheel(p_weights, particles)\n",
    "    print(eval(myrobot, particles))\n",
    "# particles"
   ]
  },
  {
   "cell_type": "code",
   "execution_count": null,
   "metadata": {
    "collapsed": true
   },
   "outputs": [],
   "source": []
  }
 ],
 "metadata": {
  "kernelspec": {
   "display_name": "Python 3",
   "language": "python",
   "name": "python3"
  },
  "language_info": {
   "codemirror_mode": {
    "name": "ipython",
    "version": 3
   },
   "file_extension": ".py",
   "mimetype": "text/x-python",
   "name": "python",
   "nbconvert_exporter": "python",
   "pygments_lexer": "ipython3",
   "version": "3.6.0"
  }
 },
 "nbformat": 4,
 "nbformat_minor": 2
}
