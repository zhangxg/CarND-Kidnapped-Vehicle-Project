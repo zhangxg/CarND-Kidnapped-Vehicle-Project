{
 "cells": [
  {
   "cell_type": "code",
   "execution_count": 1,
   "metadata": {
    "collapsed": true
   },
   "outputs": [],
   "source": [
    "from math import *\n",
    "import random"
   ]
  },
  {
   "cell_type": "code",
   "execution_count": 7,
   "metadata": {
    "collapsed": true
   },
   "outputs": [],
   "source": [
    "landmarks  = [[20.0, 20.0], [80.0, 80.0], [20.0, 80.0], [80.0, 20.0]]\n",
    "world_size = 100.0"
   ]
  },
  {
   "cell_type": "code",
   "execution_count": 4,
   "metadata": {},
   "outputs": [],
   "source": [
    "class robot:\n",
    "    def __init__(self):\n",
    "        self.x = random.random() * world_size\n",
    "        self.y = random.random() * world_size\n",
    "        self.orientation = random.random() * 2.0 * pi\n",
    "        self.forward_noise = 0.0;\n",
    "        self.turn_noise    = 0.0;\n",
    "        self.sense_noise   = 0.0;\n",
    "    \n",
    "    def set(self, new_x, new_y, new_orientation):\n",
    "        if new_x < 0 or new_x >= world_size:\n",
    "#             raise ValueError, 'X coordinate out of bound'\n",
    "            raise ValueError('X coordinate out of bound')\n",
    "        if new_y < 0 or new_y >= world_size:\n",
    "#             raise ValueError, 'Y coordinate out of bound'\n",
    "            raise ValueError('Y coordinate out of bound')\n",
    "        if new_orientation < 0 or new_orientation >= 2 * pi:\n",
    "#             raise ValueError, 'Orientation must be in [0..2pi]'\n",
    "            raise ValueError('Orientation must be in [0..2pi]')\n",
    "        self.x = float(new_x)\n",
    "        self.y = float(new_y)\n",
    "        self.orientation = float(new_orientation)\n",
    "    \n",
    "    def set_noise(self, new_f_noise, new_t_noise, new_s_noise):\n",
    "        # makes it possible to change the noise parameters\n",
    "        # this is often useful in particle filters\n",
    "        self.forward_noise = float(new_f_noise);\n",
    "        self.turn_noise    = float(new_t_noise);\n",
    "        self.sense_noise   = float(new_s_noise);\n",
    "    \n",
    "    def sense(self):\n",
    "        Z = []\n",
    "        for i in range(len(landmarks)):\n",
    "            dist = sqrt((self.x - landmarks[i][0]) ** 2 + (self.y - landmarks[i][1]) ** 2)\n",
    "            dist += random.gauss(0.0, self.sense_noise)\n",
    "            Z.append(dist)\n",
    "        return Z\n",
    "    \n",
    "    def move(self, turn, forward):\n",
    "        if forward < 0:\n",
    "#             raise ValueError, 'Robot cant move backwards'\n",
    "            raise ValueError('Robot cant move backwards')\n",
    "        \n",
    "        # turn, and add randomness to the turning command\n",
    "        orientation = self.orientation + float(turn) + random.gauss(0.0, self.turn_noise)\n",
    "        orientation %= 2 * pi\n",
    "        \n",
    "        # move, and add randomness to the motion command\n",
    "        dist = float(forward) + random.gauss(0.0, self.forward_noise)\n",
    "        x = self.x + (cos(orientation) * dist)\n",
    "        y = self.y + (sin(orientation) * dist)\n",
    "        x %= world_size    # cyclic truncate\n",
    "        y %= world_size\n",
    "        \n",
    "        # set particle\n",
    "        res = robot()\n",
    "        res.set(x, y, orientation)\n",
    "        res.set_noise(self.forward_noise, self.turn_noise, self.sense_noise)\n",
    "        return res\n",
    "    \n",
    "    def Gaussian(self, mu, sigma, x):\n",
    "        # calculates the probability of x for 1-dim Gaussian with mean mu and var. sigma\n",
    "        return exp(- ((mu - x) ** 2) / (sigma ** 2) / 2.0) / sqrt(2.0 * pi * (sigma ** 2))\n",
    "    \n",
    "    def measurement_prob(self, measurement):\n",
    "        # calculates how likely a measurement should be\n",
    "        prob = 1.0;\n",
    "        for i in range(len(landmarks)):\n",
    "            dist = sqrt((self.x - landmarks[i][0]) ** 2 + (self.y - landmarks[i][1]) ** 2)\n",
    "            prob *= self.Gaussian(dist, self.sense_noise, measurement[i])\n",
    "        return prob\n",
    "\n",
    "    def __repr__(self):\n",
    "        return '[x=%.6s y=%.6s orient=%.6s]' % (str(self.x), str(self.y), str(self.orientation))"
   ]
  },
  {
   "cell_type": "code",
   "execution_count": 5,
   "metadata": {
    "collapsed": true
   },
   "outputs": [],
   "source": [
    "def eval(r, p):\n",
    "    sum = 0.0;\n",
    "    for i in range(len(p)): # calculate mean error\n",
    "        dx = (p[i].x - r.x + (world_size/2.0)) % world_size - (world_size/2.0)\n",
    "        dy = (p[i].y - r.y + (world_size/2.0)) % world_size - (world_size/2.0)\n",
    "        err = sqrt(dx * dx + dy * dy)\n",
    "        sum += err\n",
    "    return sum / float(len(p))"
   ]
  },
  {
   "cell_type": "code",
   "execution_count": 19,
   "metadata": {},
   "outputs": [
    {
     "name": "stdout",
     "output_type": "stream",
     "text": [
      "[x=30.0 y=50.0 orient=1.5707]\n",
      "[x=45.0 y=50.0 orient=0.0]\n",
      "[39.05124837953327, 46.09772228646444, 39.05124837953327, 46.09772228646444]\n",
      "[x=45.0 y=40.0 orient=4.7123]\n",
      "[32.01562118716424, 53.150729063673246, 47.16990566028302, 40.311288741492746]\n"
     ]
    }
   ],
   "source": [
    "# Make a robot called myrobot that starts at\n",
    "# coordinates 30, 50 heading north (pi/2).\n",
    "# Have your robot turn clockwise by pi/2, move\n",
    "# 15 m, and sense. Then have it turn clockwise\n",
    "# by pi/2 again, move 10 m, and sense again.\n",
    "#\n",
    "# Your program should print out the result of\n",
    "# your two sense measurements.\n",
    "#\n",
    "# Don't modify the code below. Please enter\n",
    "# your code at the bottom.\n",
    "myrobot = robot()\n",
    "myrobot.set(30, 50, pi/2)\n",
    "print(myrobot)\n",
    "myrobot = myrobot.move(-pi/2, 15)\n",
    "print(myrobot)\n",
    "print(myrobot.sense())\n",
    "myrobot = myrobot.move(-pi/2, 10)\n",
    "print(myrobot)\n",
    "print(myrobot.sense())"
   ]
  },
  {
   "cell_type": "code",
   "execution_count": 20,
   "metadata": {},
   "outputs": [
    {
     "name": "stdout",
     "output_type": "stream",
     "text": [
      "[x=30.0 y=50.0 orient=1.5707]\n",
      "[x=46.418 y=49.543 orient=6.2553]\n",
      "[40.093092838251714, 45.25367594349254, 41.533633345122915, 49.183145970201764]\n",
      "[x=48.246 y=40.945 orient=4.9218]\n",
      "[32.09750881477917, 42.649727704931244, 42.17232281766185, 41.51890843652686]\n"
     ]
    }
   ],
   "source": [
    "# Now add noise to your robot as follows:\n",
    "# forward_noise = 5.0, turn_noise = 0.1,\n",
    "# sense_noise = 5.0.\n",
    "#\n",
    "# Once again, your robot starts at 30, 50,\n",
    "# heading north (pi/2), then turns clockwise\n",
    "# by pi/2, moves 15 meters, senses,\n",
    "# then turns clockwise by pi/2 again, moves\n",
    "# 10 m, then senses again.\n",
    "#\n",
    "# Your program should print out the result of\n",
    "# your two sense measurements.\n",
    "#\n",
    "forward_noise = 5.0\n",
    "turn_noise = 0.1\n",
    "sense_noise = 5.0\n",
    "\n",
    "myrobot = robot()\n",
    "myrobot.set_noise(forward_noise, turn_noise, sense_noise)\n",
    "myrobot.set(30, 50, pi/2)\n",
    "print(myrobot)\n",
    "myrobot = myrobot.move(-pi/2, 15)\n",
    "print(myrobot)\n",
    "print(myrobot.sense())\n",
    "myrobot = myrobot.move(-pi/2, 10)\n",
    "print(myrobot)\n",
    "print(myrobot.sense())"
   ]
  },
  {
   "cell_type": "code",
   "execution_count": 28,
   "metadata": {
    "scrolled": true
   },
   "outputs": [
    {
     "name": "stdout",
     "output_type": "stream",
     "text": [
      "1000\n",
      "[[x=5.3373 y=79.179 orient=5.5605], [x=14.686 y=30.003 orient=0.4388], [x=15.629 y=4.0468 orient=0.4559], [x=54.225 y=72.846 orient=4.4675], [x=46.926 y=91.473 orient=4.3314], [x=50.731 y=42.194 orient=1.2906], [x=94.134 y=97.314 orient=4.4541], [x=5.6488 y=20.620 orient=5.6505], [x=73.911 y=83.945 orient=3.8570], [x=66.042 y=80.825 orient=6.2072]]\n"
     ]
    }
   ],
   "source": [
    "## initialize the particles\n",
    "N = 1000\n",
    "p = []\n",
    "p = [robot() for i in range(N)]\n",
    "print(len(p))\n",
    "print(p[:10])"
   ]
  },
  {
   "cell_type": "code",
   "execution_count": 29,
   "metadata": {},
   "outputs": [
    {
     "name": "stdout",
     "output_type": "stream",
     "text": [
      "[[x=9.3991 y=76.263 orient=5.6605], [x=18.978 y=32.569 orient=0.5388], [x=19.876 y=6.6856 orient=0.5559], [x=53.503 y=67.898 orient=4.5675], [x=45.539 y=86.669 orient=4.4314], [x=51.627 y=47.113 orient=1.3906], [x=93.347 y=92.377 orient=4.5541], [x=9.9561 y=18.081 orient=5.7505], [x=70.483 y=80.305 orient=3.9570], [x=71.040 y=80.945 orient=0.0240]]\n"
     ]
    }
   ],
   "source": [
    "# Now we want to simulate robot\n",
    "# motion with our particles.\n",
    "# Each particle should turn by 0.1\n",
    "# and then move by 5. \n",
    "p = [pi.move(0.1, 5) for pi in p]\n",
    "print(p[:10])"
   ]
  },
  {
   "cell_type": "code",
   "execution_count": 33,
   "metadata": {},
   "outputs": [
    {
     "name": "stdout",
     "output_type": "stream",
     "text": [
      "[7.368528909931213e-119, 2.1426600854570977e-56, 1.0472383107370832e-43, 4.8180086498278436e-71, 1.3556935703556169e-49, 1.5951233647517637e-17, 4.898636734090351e-78, 1.3550855946787636e-116, 6.412450240518966e-101, 4.8473499629716523e-85]\n"
     ]
    }
   ],
   "source": [
    "# Now we want to give weight to our \n",
    "# particles. This program will print a\n",
    "# list of 1000 particle weights.\n",
    "myrobot = robot()\n",
    "myrobot.move(0.1, 5)\n",
    "Z = myrobot.sense()   # this is the measurement, more precisely, the robot's measurements\n",
    "\n",
    "N = 1000\n",
    "particles = []\n",
    "particles = [robot() for i in range(N)]\n",
    "for p in particles:\n",
    "    p.set_noise(0.05, 0.05, 5.0)\n",
    "\n",
    "p2 = []\n",
    "for i in range(N):\n",
    "    p2.append(particles[i].move(0.1, 5.0))\n",
    "particles = p2\n",
    "\n",
    "p_weights = []\n",
    "p_weights = [p.measurement_prob(Z) for p in particles]\n",
    "print(p_weights[:10])"
   ]
  },
  {
   "cell_type": "code",
   "execution_count": null,
   "metadata": {
    "collapsed": true
   },
   "outputs": [],
   "source": []
  }
 ],
 "metadata": {
  "kernelspec": {
   "display_name": "Python 3",
   "language": "python",
   "name": "python3"
  },
  "language_info": {
   "codemirror_mode": {
    "name": "ipython",
    "version": 3
   },
   "file_extension": ".py",
   "mimetype": "text/x-python",
   "name": "python",
   "nbconvert_exporter": "python",
   "pygments_lexer": "ipython3",
   "version": "3.6.0"
  }
 },
 "nbformat": 4,
 "nbformat_minor": 2
}
