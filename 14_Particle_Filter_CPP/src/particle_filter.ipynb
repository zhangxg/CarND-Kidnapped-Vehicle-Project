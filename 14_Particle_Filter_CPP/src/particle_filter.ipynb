{
 "cells": [
  {
   "cell_type": "code",
   "execution_count": 1,
   "metadata": {
    "collapsed": true
   },
   "outputs": [],
   "source": [
    "import math"
   ]
  },
  {
   "cell_type": "markdown",
   "metadata": {},
   "source": [
    "## below is the testing result for:\n",
    "https://classroom.udacity.com/nanodegrees/nd013/parts/40f38239-66b6-46ec-ae68-03afd8a601c8/modules/2c318113-724b-4f9f-860c-cb334e6e4ad7/lessons/5c50790c-5370-4c80-aff6-334659d5c0d9/concepts/1da01dfe-6653-4d2d-b2e4-325740fc7156#\n",
    "\n",
    "### function defined. and works. "
   ]
  },
  {
   "cell_type": "markdown",
   "metadata": {},
   "source": [
    "![the understaning](../docs/imgs/transformation_and_association.jpg)"
   ]
  },
  {
   "cell_type": "code",
   "execution_count": 2,
   "metadata": {
    "collapsed": true
   },
   "outputs": [],
   "source": [
    "def transformedObservation(px, py, theta, ox, oy):\n",
    "    angle = math.radians(math.degrees(math.atan2(oy,ox))+theta)\n",
    "    print(angle)\n",
    "    distance = math.sqrt(ox*ox+oy*oy)\n",
    "    print(distance)\n",
    "    print(distance*math.cos(math.atan2(oy,ox)), distance*math.sin(math.atan2(oy,ox)))\n",
    "    return [px+distance*math.cos(angle), py+distance*math.sin(angle)]"
   ]
  },
  {
   "cell_type": "code",
   "execution_count": 3,
   "metadata": {},
   "outputs": [
    {
     "name": "stdout",
     "output_type": "stream",
     "text": [
      "-0.7853981633974483\n",
      "2.8284271247461903\n",
      "2.0000000000000004 2.0\n"
     ]
    },
    {
     "data": {
      "text/plain": [
       "[6.0, 3.0]"
      ]
     },
     "execution_count": 3,
     "metadata": {},
     "output_type": "execute_result"
    }
   ],
   "source": [
    "transformedObservation(4, 5, -90, 2, 2)"
   ]
  },
  {
   "cell_type": "code",
   "execution_count": 4,
   "metadata": {},
   "outputs": [
    {
     "name": "stdout",
     "output_type": "stream",
     "text": [
      "-2.158798930342464\n",
      "3.605551275463989\n",
      "3.0 -1.9999999999999996\n"
     ]
    },
    {
     "data": {
      "text/plain": [
       "[2.000000000000001, 1.9999999999999996]"
      ]
     },
     "execution_count": 4,
     "metadata": {},
     "output_type": "execute_result"
    }
   ],
   "source": [
    "transformedObservation(4, 5, -90, 3, -2)"
   ]
  },
  {
   "cell_type": "code",
   "execution_count": 5,
   "metadata": {},
   "outputs": [
    {
     "name": "stdout",
     "output_type": "stream",
     "text": [
      "-3.141592653589793\n",
      "4.0\n",
      "2.4492935982947064e-16 -4.0\n"
     ]
    },
    {
     "data": {
      "text/plain": [
       "[0.0, 4.999999999999999]"
      ]
     },
     "execution_count": 5,
     "metadata": {},
     "output_type": "execute_result"
    }
   ],
   "source": [
    "transformedObservation(4, 5, -90, 0, -4)"
   ]
  },
  {
   "cell_type": "code",
   "execution_count": 6,
   "metadata": {},
   "outputs": [
    {
     "data": {
      "text/plain": [
       "1.2246467991473532e-16"
      ]
     },
     "execution_count": 6,
     "metadata": {},
     "output_type": "execute_result"
    }
   ],
   "source": [
    "math.sin(math.pi)"
   ]
  },
  {
   "cell_type": "code",
   "execution_count": 7,
   "metadata": {},
   "outputs": [
    {
     "data": {
      "text/plain": [
       "-1.0"
      ]
     },
     "execution_count": 7,
     "metadata": {},
     "output_type": "execute_result"
    }
   ],
   "source": [
    "math.cos(math.pi)"
   ]
  },
  {
   "cell_type": "code",
   "execution_count": 8,
   "metadata": {
    "collapsed": true
   },
   "outputs": [],
   "source": [
    "t = [4, 5]\n",
    "obs1 = [2, 2]\n",
    "obs2 = [3, -2]\n",
    "obs3 = [0, -4]"
   ]
  },
  {
   "cell_type": "markdown",
   "metadata": {},
   "source": [
    "### my first try, of course not work."
   ]
  },
  {
   "cell_type": "code",
   "execution_count": 9,
   "metadata": {
    "collapsed": true
   },
   "outputs": [],
   "source": [
    "def rotation(x, y, theta):\n",
    "    rx = x * math.cos(theta) - y * math.sin(theta) + x\n",
    "    ry = x * math.sin(theta) + y * math.cos(theta) + y\n",
    "    return [rx, ry]"
   ]
  },
  {
   "cell_type": "code",
   "execution_count": 10,
   "metadata": {
    "collapsed": true
   },
   "outputs": [],
   "source": [
    "def translation(a, b):\n",
    "    return [a[0] + b[0], a[1] + b[1]]"
   ]
  },
  {
   "cell_type": "code",
   "execution_count": 11,
   "metadata": {},
   "outputs": [
    {
     "data": {
      "text/plain": [
       "[4.0, 4.0]"
      ]
     },
     "execution_count": 11,
     "metadata": {},
     "output_type": "execute_result"
    }
   ],
   "source": [
    "robs1 = rotation(obs1[0], obs1[1], 0)\n",
    "robs1"
   ]
  },
  {
   "cell_type": "code",
   "execution_count": 12,
   "metadata": {},
   "outputs": [
    {
     "data": {
      "text/plain": [
       "[8.0, 9.0]"
      ]
     },
     "execution_count": 12,
     "metadata": {},
     "output_type": "execute_result"
    }
   ],
   "source": [
    "# robs1\n",
    "tobs1 = translation(robs1, t)\n",
    "tobs1"
   ]
  },
  {
   "cell_type": "code",
   "execution_count": 13,
   "metadata": {},
   "outputs": [
    {
     "data": {
      "text/plain": [
       "[13.0, 1.0]"
      ]
     },
     "execution_count": 13,
     "metadata": {},
     "output_type": "execute_result"
    }
   ],
   "source": [
    "to2 = translation(obs1, t)\n",
    "ro2 = rotation(to2[0], to2[1], -math.pi/2)\n",
    "ro2"
   ]
  },
  {
   "cell_type": "code",
   "execution_count": 14,
   "metadata": {
    "collapsed": true
   },
   "outputs": [],
   "source": [
    "ox = obs1[0]\n",
    "oy = obs1[1]"
   ]
  },
  {
   "cell_type": "code",
   "execution_count": 15,
   "metadata": {},
   "outputs": [
    {
     "data": {
      "text/plain": [
       "45.0"
      ]
     },
     "execution_count": 15,
     "metadata": {},
     "output_type": "execute_result"
    }
   ],
   "source": [
    "math.degrees(math.atan(oy/ox))"
   ]
  },
  {
   "cell_type": "code",
   "execution_count": 16,
   "metadata": {},
   "outputs": [
    {
     "data": {
      "text/plain": [
       "-1.0"
      ]
     },
     "execution_count": 16,
     "metadata": {},
     "output_type": "execute_result"
    }
   ],
   "source": [
    "math.cos(0.7853981633974483 * 180)"
   ]
  },
  {
   "cell_type": "code",
   "execution_count": 17,
   "metadata": {},
   "outputs": [
    {
     "data": {
      "text/plain": [
       "0.7853981633974483"
      ]
     },
     "execution_count": 17,
     "metadata": {},
     "output_type": "execute_result"
    }
   ],
   "source": [
    "math.atan(oy/ox)"
   ]
  },
  {
   "cell_type": "code",
   "execution_count": 18,
   "metadata": {},
   "outputs": [
    {
     "data": {
      "text/plain": [
       "-57.29577951308232"
      ]
     },
     "execution_count": 18,
     "metadata": {},
     "output_type": "execute_result"
    }
   ],
   "source": [
    "math.degrees(-1)"
   ]
  },
  {
   "cell_type": "code",
   "execution_count": 19,
   "metadata": {},
   "outputs": [
    {
     "data": {
      "text/plain": [
       "0.7853981633974483"
      ]
     },
     "execution_count": 19,
     "metadata": {},
     "output_type": "execute_result"
    }
   ],
   "source": [
    "math.atan2(oy, ox)"
   ]
  },
  {
   "cell_type": "code",
   "execution_count": 20,
   "metadata": {},
   "outputs": [
    {
     "data": {
      "text/plain": [
       "0.5253219888177297"
      ]
     },
     "execution_count": 20,
     "metadata": {},
     "output_type": "execute_result"
    }
   ],
   "source": [
    "math.cos(45)"
   ]
  },
  {
   "cell_type": "code",
   "execution_count": 21,
   "metadata": {},
   "outputs": [
    {
     "data": {
      "text/plain": [
       "45.0"
      ]
     },
     "execution_count": 21,
     "metadata": {},
     "output_type": "execute_result"
    }
   ],
   "source": [
    "math.degrees(math.atan(2/2))"
   ]
  },
  {
   "cell_type": "code",
   "execution_count": 22,
   "metadata": {},
   "outputs": [
    {
     "data": {
      "text/plain": [
       "1.4858349623976816"
      ]
     },
     "execution_count": 22,
     "metadata": {},
     "output_type": "execute_result"
    }
   ],
   "source": [
    "## the math sin and cos function accept the radians, not degrees. \n",
    "math.sqrt(2*2+2*2)*math.cos(math.degrees(math.atan(2/2)))"
   ]
  },
  {
   "cell_type": "code",
   "execution_count": 23,
   "metadata": {},
   "outputs": [
    {
     "data": {
      "text/plain": [
       "(3.0, 1.9999999999999996)"
      ]
     },
     "execution_count": 23,
     "metadata": {},
     "output_type": "execute_result"
    }
   ],
   "source": [
    "math.sqrt(3*3+2*2)*math.cos(math.atan2(2,3)), math.sqrt(3*3+2*2)*math.sin(math.atan2(2,3))"
   ]
  },
  {
   "cell_type": "markdown",
   "metadata": {},
   "source": [
    "## worked again, this time it worked. \n",
    "\n"
   ]
  },
  {
   "cell_type": "code",
   "execution_count": 24,
   "metadata": {
    "collapsed": true
   },
   "outputs": [],
   "source": [
    "def transformedObservation(px, py, p_theta, ox, oy):\n",
    "    angle = math.radians(math.degrees(math.atan2(oy,ox)) + p_theta)\n",
    "    print(angle)\n",
    "#     distance = math.sqrt(ox**ox + oy**oy)   ## stupid bug\n",
    "    distance = math.sqrt(ox*ox + oy*oy)\n",
    "    print(\"=== test value below\")\n",
    "    print(distance*math.cos(math.atan2(oy,ox)),distance*math.sin(math.atan2(oy,ox)))\n",
    "    print(distance)\n",
    "    return [px+distance*math.cos(angle), py+distance*math.sin(angle)]"
   ]
  },
  {
   "cell_type": "code",
   "execution_count": 25,
   "metadata": {},
   "outputs": [
    {
     "name": "stdout",
     "output_type": "stream",
     "text": [
      "-0.7853981633974483\n",
      "=== test value below\n",
      "2.0000000000000004 2.0\n",
      "2.8284271247461903\n"
     ]
    },
    {
     "data": {
      "text/plain": [
       "[6.0, 3.0]"
      ]
     },
     "execution_count": 25,
     "metadata": {},
     "output_type": "execute_result"
    }
   ],
   "source": [
    "transformedObservation(4, 5, -90, 2, 2)"
   ]
  },
  {
   "cell_type": "code",
   "execution_count": 26,
   "metadata": {},
   "outputs": [
    {
     "name": "stdout",
     "output_type": "stream",
     "text": [
      "-0.982793723247329\n",
      "=== test value below\n",
      "3.0 1.9999999999999996\n",
      "3.605551275463989\n"
     ]
    },
    {
     "data": {
      "text/plain": [
       "[6.0, 2.0000000000000004]"
      ]
     },
     "execution_count": 26,
     "metadata": {},
     "output_type": "execute_result"
    }
   ],
   "source": [
    "transformedObservation(4, 5, -90, 3, 2)"
   ]
  },
  {
   "cell_type": "code",
   "execution_count": 27,
   "metadata": {},
   "outputs": [
    {
     "name": "stdout",
     "output_type": "stream",
     "text": [
      "-2.158798930342464\n",
      "=== test value below\n",
      "3.0 -1.9999999999999996\n",
      "3.605551275463989\n"
     ]
    },
    {
     "data": {
      "text/plain": [
       "[2.000000000000001, 1.9999999999999996]"
      ]
     },
     "execution_count": 27,
     "metadata": {},
     "output_type": "execute_result"
    }
   ],
   "source": [
    "transformedObservation(4, 5, -90, 3, -2)"
   ]
  },
  {
   "cell_type": "code",
   "execution_count": 28,
   "metadata": {},
   "outputs": [
    {
     "name": "stdout",
     "output_type": "stream",
     "text": [
      "-3.141592653589793\n",
      "=== test value below\n",
      "2.4492935982947064e-16 -4.0\n",
      "4.0\n"
     ]
    },
    {
     "data": {
      "text/plain": [
       "[0.0, 4.999999999999999]"
      ]
     },
     "execution_count": 28,
     "metadata": {},
     "output_type": "execute_result"
    }
   ],
   "source": [
    "transformedObservation(4, 5, -90, 0, -4)"
   ]
  },
  {
   "cell_type": "markdown",
   "metadata": {
    "collapsed": true
   },
   "source": [
    "## Association"
   ]
  },
  {
   "cell_type": "markdown",
   "metadata": {},
   "source": [
    "![the landmark graph](../docs/imgs/the_landmark.png)"
   ]
  },
  {
   "cell_type": "code",
   "execution_count": 29,
   "metadata": {},
   "outputs": [
    {
     "name": "stdout",
     "output_type": "stream",
     "text": [
      "-0.7853981633974483\n",
      "=== test value below\n",
      "2.0000000000000004 2.0\n",
      "2.8284271247461903\n",
      "-2.158798930342464\n",
      "=== test value below\n",
      "3.0 -1.9999999999999996\n",
      "3.605551275463989\n",
      "-3.141592653589793\n",
      "=== test value below\n",
      "2.4492935982947064e-16 -4.0\n",
      "4.0\n"
     ]
    },
    {
     "data": {
      "text/plain": [
       "[[6.0, 3.0], [2.000000000000001, 1.9999999999999996], [0.0, 4.999999999999999]]"
      ]
     },
     "execution_count": 29,
     "metadata": {},
     "output_type": "execute_result"
    }
   ],
   "source": [
    "# define the data\n",
    "land_marks = [(5,3), (2,1), (6,1), (7,4), (4,7)]\n",
    "transed_obs = [\n",
    "    transformedObservation(4, 5, -90, 2, 2),\n",
    "    transformedObservation(4, 5, -90, 3, -2),\n",
    "    transformedObservation(4, 5, -90, 0, -4)\n",
    "]\n",
    "transed_obs"
   ]
  },
  {
   "cell_type": "code",
   "execution_count": 30,
   "metadata": {
    "collapsed": true
   },
   "outputs": [],
   "source": [
    "def nearest_neighbour(observations, landmarks):\n",
    "    nn = {}\n",
    "    for i, obv in enumerate(observations):\n",
    "        nn[i] = []\n",
    "        for j, lm in enumerate(landmarks):\n",
    "#  print(math.sqrt(obv[0]-lm[0])**2 + (obv[1]-lm[1])**2)  # stupid bug, sqrt(-1), math domain error\n",
    "            nn[i].append(math.sqrt((obv[0]-lm[0])**2 + (obv[1]-lm[1])**2))\n",
    "    return nn"
   ]
  },
  {
   "cell_type": "code",
   "execution_count": 31,
   "metadata": {},
   "outputs": [
    {
     "data": {
      "text/plain": [
       "{0: [1.0, 4.47213595499958, 2.0, 1.4142135623730951, 4.47213595499958],\n",
       " 1: [3.1622776601683786,\n",
       "  0.9999999999999996,\n",
       "  4.12310562561766,\n",
       "  5.385164807134504,\n",
       "  5.385164807134504],\n",
       " 2: [5.385164807134504,\n",
       "  4.472135954999579,\n",
       "  7.211102550927978,\n",
       "  7.0710678118654755,\n",
       "  4.47213595499958]}"
      ]
     },
     "execution_count": 31,
     "metadata": {},
     "output_type": "execute_result"
    }
   ],
   "source": [
    "nn = nearest_neighbour(transed_obs, land_marks)\n",
    "nn"
   ]
  },
  {
   "cell_type": "code",
   "execution_count": 32,
   "metadata": {},
   "outputs": [
    {
     "name": "stdout",
     "output_type": "stream",
     "text": [
      "0\n",
      "1\n",
      "1\n"
     ]
    }
   ],
   "source": [
    "for k in nn:\n",
    "    print(nn[k].index(min(nn[k])))"
   ]
  },
  {
   "cell_type": "markdown",
   "metadata": {},
   "source": [
    "## Calculate weights"
   ]
  },
  {
   "cell_type": "markdown",
   "metadata": {},
   "source": [
    "[the forum thred](https://discussions.udacity.com/t/for-the-question-in-lesson14-13-obs1-multivariate-gaussian-probability/239934/14)"
   ]
  },
  {
   "cell_type": "markdown",
   "metadata": {},
   "source": [
    "### The Multivariate-Gaussian\n",
    "![the multivariate-gaussian](../docs/imgs/multivariate_gaussian_.png)"
   ]
  },
  {
   "cell_type": "code",
   "execution_count": 33,
   "metadata": {
    "collapsed": true
   },
   "outputs": [],
   "source": [
    "std_x = std_y = 0.3"
   ]
  },
  {
   "cell_type": "code",
   "execution_count": 40,
   "metadata": {
    "collapsed": true
   },
   "outputs": [],
   "source": [
    "def calculate_weights(ox, oy, lx, ly, stdx, stdy, debug=False):\n",
    "    pow_item = -0.5*((ox-lx)**2/(stdx**2) + (oy-ly)**2/(stdy**2))\n",
    "    if debug: print(pow_item)\n",
    "#     return (0.5*math.pi*stdx*stdy)*math.pow(math.e, pow_item)\n",
    "    return math.exp(pow_item)/(2*math.pi*stdx*stdy)\n",
    "    # another stupid bug, according the fomula, should divide the \"(2*math.pi*stdx*stdy)\"\n",
    "#     return (0.5*math.pi*stdx*stdy)*math.exp(pow_item)\n",
    "#     return math.exp(pow_item)/math.sqrt(2*math.pi*stdx*stdy)"
   ]
  },
  {
   "cell_type": "code",
   "execution_count": 50,
   "metadata": {},
   "outputs": [
    {
     "name": "stdout",
     "output_type": "stream",
     "text": [
      "6.0 3.0\n",
      "0\n",
      "5 3\n",
      "-5.555555555555555\n",
      "6.84E-03\n"
     ]
    }
   ],
   "source": [
    "o_index = 0  # the index of observation\n",
    "ox, oy = transed_obs[o_index][0],transed_obs[o_index][1]\n",
    "print(ox, oy)\n",
    "associated = nn[o_index].index(min(nn[o_index]))\n",
    "print(associated)\n",
    "lx, ly = land_marks[associated][0],land_marks[associated][1]\n",
    "print(lx, ly)\n",
    "w1 = calculate_weights(ox, oy, lx, ly, std_x, std_y, debug=True)\n",
    "# w1 = calculate_weights(2, 2, lx, ly, std_x, std_y, debug=True)\n",
    "print(\"%.2E\" % w1 )"
   ]
  },
  {
   "cell_type": "code",
   "execution_count": 49,
   "metadata": {},
   "outputs": [
    {
     "name": "stdout",
     "output_type": "stream",
     "text": [
      "-0.0\n"
     ]
    },
    {
     "data": {
      "text/plain": [
       "1.768388256576615"
      ]
     },
     "execution_count": 49,
     "metadata": {},
     "output_type": "execute_result"
    }
   ],
   "source": [
    "# 5.47E-04, the result is not correct, let's debugging the formula\n",
    "# let ox = lx, oy = ly\n",
    "w_test = calculate_weights(ox, oy, ox, oy, std_x, std_y, debug=True)\n",
    "w_test"
   ]
  },
  {
   "cell_type": "code",
   "execution_count": 43,
   "metadata": {},
   "outputs": [
    {
     "data": {
      "text/plain": [
       "0.1413716694115407"
      ]
     },
     "execution_count": 43,
     "metadata": {},
     "output_type": "execute_result"
    }
   ],
   "source": [
    "0.5*math.pi*std_x*std_x\n",
    "# print(\"%.2E\" % (0.5*math.pi*std_x*std_x))"
   ]
  },
  {
   "cell_type": "code",
   "execution_count": 44,
   "metadata": {},
   "outputs": [
    {
     "name": "stdout",
     "output_type": "stream",
     "text": [
      "2.000000000000001 1.9999999999999996\n",
      "1\n",
      "2 1\n",
      "-5.555555555555551\n",
      "0.0068364477755067715\n",
      "6.84E-03\n"
     ]
    }
   ],
   "source": [
    "o_index = 1  # the index of observation\n",
    "ox, oy = transed_obs[o_index][0],transed_obs[o_index][1]\n",
    "print(ox, oy)\n",
    "associated = nn[o_index].index(min(nn[o_index]))\n",
    "print(associated)\n",
    "lx, ly = land_marks[associated][0],land_marks[associated][1]\n",
    "print(lx, ly)\n",
    "w2 = calculate_weights(ox, oy, lx, ly, std_x, std_y, debug=True)\n",
    "print(w2)\n",
    "print(\"%.2E\" % w2 )"
   ]
  },
  {
   "cell_type": "code",
   "execution_count": 45,
   "metadata": {},
   "outputs": [
    {
     "name": "stdout",
     "output_type": "stream",
     "text": [
      "0.0 4.999999999999999\n",
      "1\n",
      "2 1\n",
      "-111.11111111111109\n",
      "9.831848741506211e-49\n",
      "9.83E-49\n"
     ]
    }
   ],
   "source": [
    "o_index = 2  # the index of observation\n",
    "ox, oy = transed_obs[o_index][0],transed_obs[o_index][1]\n",
    "print(ox, oy)\n",
    "associated = nn[o_index].index(min(nn[o_index]))\n",
    "print(associated)\n",
    "lx, ly = land_marks[associated][0],land_marks[associated][1]\n",
    "print(lx, ly)\n",
    "w3 = calculate_weights(ox, oy, lx, ly, std_x, std_y, debug=True)\n",
    "print(w3)\n",
    "print(\"%.2E\" % w3 )"
   ]
  },
  {
   "cell_type": "code",
   "execution_count": 51,
   "metadata": {},
   "outputs": [
    {
     "name": "stdout",
     "output_type": "stream",
     "text": [
      "4.60E-53\n"
     ]
    }
   ],
   "source": [
    "## the particles weight\n",
    "w = w1*w2*w3\n",
    "print(\"%.2E\" % w)"
   ]
  },
  {
   "cell_type": "code",
   "execution_count": null,
   "metadata": {
    "collapsed": true
   },
   "outputs": [],
   "source": []
  }
 ],
 "metadata": {
  "kernelspec": {
   "display_name": "Python 3",
   "language": "python",
   "name": "python3"
  },
  "language_info": {
   "codemirror_mode": {
    "name": "ipython",
    "version": 3
   },
   "file_extension": ".py",
   "mimetype": "text/x-python",
   "name": "python",
   "nbconvert_exporter": "python",
   "pygments_lexer": "ipython3",
   "version": "3.6.0"
  }
 },
 "nbformat": 4,
 "nbformat_minor": 2
}
